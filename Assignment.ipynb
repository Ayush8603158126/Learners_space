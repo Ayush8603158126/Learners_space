{
  "nbformat": 4,
  "nbformat_minor": 0,
  "metadata": {
    "colab": {
      "provenance": []
    },
    "kernelspec": {
      "name": "python3",
      "display_name": "Python 3"
    },
    "language_info": {
      "name": "python"
    }
  },
  "cells": [
    {
      "cell_type": "markdown",
      "source": [
        "# QUESTION 1"
      ],
      "metadata": {
        "id": "tky8epFufIxQ"
      }
    },
    {
      "cell_type": "code",
      "execution_count": 4,
      "metadata": {
        "colab": {
          "base_uri": "https://localhost:8080/"
        },
        "id": "f5WBPVUCUk7x",
        "outputId": "8e1ad41e-9087-4d18-98cb-875e040f5646"
      },
      "outputs": [
        {
          "output_type": "stream",
          "name": "stdout",
          "text": [
            "[[30. 11. 43. 43.]\n",
            " [33. 45. 29. 36.]\n",
            " [ 5. 37. 25. 12.]\n",
            " [37. 39. 24. 17.]\n",
            " [15. 32. 48. 16.]]\n",
            "[np.float64(43.0), np.float64(45.0), np.float64(37.0), np.float64(39.0), np.float64(48.0)]\n",
            "[11.  5. 25. 12. 24. 17. 15. 16.]\n",
            "28.85\n"
          ]
        },
        {
          "output_type": "execute_result",
          "data": {
            "text/plain": [
              "array([30., 11., 43., 43., 36., 12., 17., 16., 48., 32., 15., 37.,  5.,\n",
              "       33.])"
            ]
          },
          "metadata": {},
          "execution_count": 4
        }
      ],
      "source": [
        "import numpy as np\n",
        "import matplotlib.pyplot as plt\n",
        "nx=5\n",
        "ny=4\n",
        "a=np.ones((nx,ny))\n",
        "for i in range(nx):\n",
        "  for j in range(ny):\n",
        "    a[i,j]=np.random.randint(1,50)\n",
        "print(a)\n",
        "b=[]\n",
        "for i in range(nx):\n",
        "  b.append(np.max(a[i,:]))\n",
        "print(b)\n",
        "mean=np.sum(a)/20\n",
        "d=[]\n",
        "for i in range(nx):\n",
        "  for j in range(ny):\n",
        "    if(a[i,j]<=mean):\n",
        "      d.append(a[i,j])\n",
        "\n",
        "print(np.array(d))\n",
        "print(mean)\n",
        "def numpy_boundary_traversal(matrix):\n",
        "  clock=[]\n",
        "  nf,ng=matrix.shape\n",
        "  for i in range(1):\n",
        "    for j in range(ng):\n",
        "      clock.append(matrix[0,j])\n",
        "  for j in range(1):\n",
        "    for i in range(nf-1):\n",
        "      clock.append(matrix[i+1,ng-1])\n",
        "  for i in range(1):\n",
        "    for j in range(ng-1):\n",
        "      clock.append(matrix[nf-1,ng-2-j])\n",
        "  for j in range(1):\n",
        "    for i in range(nf-2):\n",
        "      clock.append(matrix[nf-2-i,0])\n",
        "  return np.array(clock)\n",
        "numpy_boundary_traversal(a)\n",
        "\n",
        "\n",
        "\n",
        "\n",
        "\n"
      ]
    },
    {
      "cell_type": "markdown",
      "source": [
        "# QUESTION 2"
      ],
      "metadata": {
        "id": "2v-iuqbSfN-B"
      }
    },
    {
      "cell_type": "code",
      "source": [
        "one_d=np.ones(20)\n",
        "\n",
        "for i in range(20):\n",
        "  one_d[i]=np.random.uniform(0,10)\n",
        "\n",
        "print(one_d.round(2))\n",
        "print(one_d.max().round(2))\n",
        "print(one_d.min().round(2))\n",
        "print(np.median(one_d.round(2)))\n",
        "\n",
        "for i in range(20):\n",
        "  if(one_d[i]<5):\n",
        "    one_d[i]=(one_d[i])*(one_d[i])\n",
        "print(one_d.round(2))\n",
        "\n",
        "def numpy_alternate_sort(arr):\n",
        "  a=arr.copy()\n",
        "  x=arr.shape[0]\n",
        "  for _ in range(20):\n",
        "    for i in range(x-1):\n",
        "      if(a[i+1]<a[i]):\n",
        "        temp=a[i]\n",
        "        a[i]=a[i+1]\n",
        "        a[i+1]=temp\n",
        "  print(a)\n",
        "  p=[]\n",
        "\n",
        "  for i in range(int (x/2)):\n",
        "    c=i\n",
        "    d=-i-1\n",
        "    p.append(a[c])\n",
        "    p.append(a[d])\n",
        "  if x%2==1:\n",
        "    p.append(a[int(x/2)])\n",
        "\n",
        "  print(np.array(p))\n",
        "\n",
        "numpy_alternate_sort(one_d)\n",
        "\n"
      ],
      "metadata": {
        "id": "K_nHfmHqfQ-7",
        "colab": {
          "base_uri": "https://localhost:8080/"
        },
        "outputId": "8d298fa6-ef90-4955-818c-7b328341a573"
      },
      "execution_count": 40,
      "outputs": [
        {
          "output_type": "stream",
          "name": "stdout",
          "text": [
            "[3.24 6.57 7.18 4.12 7.65 6.75 6.   4.35 0.96 1.55 0.83 7.7  5.1  6.82\n",
            " 7.59 0.7  6.3  4.01 3.54 8.51]\n",
            "8.51\n",
            "0.7\n",
            "5.55\n",
            "[10.48  6.57  7.18 16.99  7.65  6.75  6.   18.93  0.92  2.39  0.68  7.7\n",
            "  5.1   6.82  7.59  0.48  6.3  16.12 12.56  8.51]\n",
            "[ 0.48347526  0.68066669  0.91938827  2.39202719  5.10178722  5.99624716\n",
            "  6.29541775  6.57206996  6.74903696  6.8161663   7.1819037   7.58529013\n",
            "  7.64609422  7.69623505  8.50668058 10.47794951 12.55691787 16.11982481\n",
            " 16.98593307 18.92678668]\n",
            "[ 0.48347526 18.92678668  0.68066669 16.98593307  0.91938827 16.11982481\n",
            "  2.39202719 12.55691787  5.10178722 10.47794951  5.99624716  8.50668058\n",
            "  6.29541775  7.69623505  6.57206996  7.64609422  6.74903696  7.58529013\n",
            "  6.8161663   7.1819037 ]\n"
          ]
        }
      ]
    },
    {
      "cell_type": "markdown",
      "source": [
        "# QUESTION 3"
      ],
      "metadata": {
        "id": "odrVCkqjfv-Z"
      }
    },
    {
      "cell_type": "code",
      "source": [
        "import pandas as pd\n",
        "data={\n",
        "    'Name':['Ayush','Ayush', 'Ayush','Om','Om','Om','Om','Aum','Aum','Aum'],\n",
        "    'Subject':['Math',\n",
        "        'English',\n",
        "        'Physics',\n",
        "        'Chemistry',\n",
        "        'English',\n",
        "        'Physics',\n",
        "        'Chemistry',\n",
        "        'English ',\n",
        "        'Physics',\n",
        "        'Chemistry'],\n",
        "    'Score':[np.random.randint(50,100) for i in range(10)],\n",
        "    'Grade':[None for i in range(10)]\n",
        "}\n",
        "df=pd.DataFrame(data)\n",
        "df['Grade']\n",
        "def grade_allocation(Score):\n",
        "  if Score>=90:\n",
        "    return 'A'\n",
        "  elif Score>=80:\n",
        "    return 'B'\n",
        "  elif Score>=70:\n",
        "    return 'C'\n",
        "  elif Score>=60:\n",
        "    return 'D'\n",
        "  else:\n",
        "    return 'F'\n",
        "df['Grade']=df['Score'].apply(grade_allocation)\n",
        "\n",
        "sorted_df=df.sort_values(by='Score', ascending=False)\n",
        "print(sorted_df)\n",
        "average_scores=df.groupby('Subject')['Score'].mean()\n",
        "print(average_scores)\n",
        "def pandas_filter_pass(dataframe):\n",
        "  return dataframe[dataframe['Grade'].isin(['A','B'])]\n",
        "print(pandas_filter_pass(df))\n",
        "\n",
        "\n",
        "\n"
      ],
      "metadata": {
        "colab": {
          "base_uri": "https://localhost:8080/"
        },
        "id": "q9twSIZ2enHD",
        "outputId": "8f9d7679-c3ae-4631-c24c-13773a274bf9"
      },
      "execution_count": 81,
      "outputs": [
        {
          "output_type": "stream",
          "name": "stdout",
          "text": [
            "    Name    Subject  Score Grade\n",
            "1  Ayush    English     88     B\n",
            "0  Ayush       Math     86     B\n",
            "8    Aum    Physics     78     C\n",
            "3     Om  Chemistry     62     D\n",
            "4     Om    English     56     F\n",
            "5     Om    Physics     55     F\n",
            "9    Aum  Chemistry     55     F\n",
            "2  Ayush    Physics     54     F\n",
            "6     Om  Chemistry     52     F\n",
            "7    Aum   English      51     F\n",
            "Subject\n",
            "Chemistry    56.333333\n",
            "English      72.000000\n",
            "English      51.000000\n",
            "Math         86.000000\n",
            "Physics      62.333333\n",
            "Name: Score, dtype: float64\n",
            "    Name  Subject  Score Grade\n",
            "0  Ayush     Math     86     B\n",
            "1  Ayush  English     88     B\n"
          ]
        }
      ]
    },
    {
      "cell_type": "markdown",
      "source": [
        "# Question 4"
      ],
      "metadata": {
        "id": "FppOUuQ-3U_D"
      }
    },
    {
      "cell_type": "code",
      "source": [
        "import pandas as pd\n",
        "from sklearn.feature_extraction.text import CountVectorizer\n",
        "from sklearn.model_selection import train_test_split\n",
        "from sklearn.naive_bayes import MultinomialNB\n",
        "from sklearn.metrics import accuracy_score\n",
        "\n",
        "# 1. Create synthetic dataset\n",
        "positive_reviews = [\"I loved this movie!\", \"Fantastic film!\", \"Best movie ever!\", \"Brilliant acting!\", \"Great direction!\"] * 10\n",
        "negative_reviews = [\"I hated this movie.\", \"Terrible film!\", \"Worst movie ever.\", \"Awful acting!\", \"Poor direction.\"] * 10\n",
        "\n",
        "reviews = positive_reviews + negative_reviews\n",
        "sentiments = ['positive'] * 50 + ['negative'] * 50\n",
        "\n",
        "df = pd.DataFrame({'Review': reviews, 'Sentiment': sentiments})\n",
        "\n",
        "# 2. Tokenize using CountVectorizer\n",
        "vectorizer = CountVectorizer(max_features=500, stop_words='english')\n",
        "X = vectorizer.fit_transform(df['Review'])\n",
        "y = df['Sentiment']\n",
        "\n",
        "# 3. Split the dataset\n",
        "X_train, X_test, y_train, y_test = train_test_split(X, y, test_size=0.2, random_state=42)\n",
        "\n",
        "# 4. Train Multinomial Naive Bayes\n",
        "model = MultinomialNB()\n",
        "model.fit(X_train, y_train)\n",
        "\n",
        "# 5. Evaluate the model\n",
        "y_pred = model.predict(X_test)\n",
        "accuracy = accuracy_score(y_test, y_pred)\n",
        "print(\"Accuracy on test set:\", accuracy)\n",
        "\n",
        "# 6. Predict function\n",
        "def predict_review_sentiment(model, vectorizer, review):\n",
        "    review_vector = vectorizer.transform([review])\n",
        "    prediction = model.predict(review_vector)\n",
        "    return prediction[0]\n",
        "\n",
        "# Example prediction\n",
        "example_review = \"An absolutely amazing movie!\"\n",
        "print(\"Predicted sentiment:\", predict_review_sentiment(model, vectorizer, example_review))\n"
      ],
      "metadata": {
        "colab": {
          "base_uri": "https://localhost:8080/"
        },
        "id": "NLk-qewD3as8",
        "outputId": "e67df5a1-b1a3-409a-865d-3652fc1953cf"
      },
      "execution_count": 84,
      "outputs": [
        {
          "output_type": "stream",
          "name": "stdout",
          "text": [
            "Accuracy on test set: 1.0\n",
            "Predicted sentiment: negative\n"
          ]
        }
      ]
    },
    {
      "cell_type": "markdown",
      "source": [
        "# Question 5"
      ],
      "metadata": {
        "id": "kXcinG0cHVVi"
      }
    },
    {
      "cell_type": "code",
      "source": [
        "import pandas as pd\n",
        "from sklearn.feature_extraction.text import TfidfVectorizer\n",
        "from sklearn.model_selection import train_test_split\n",
        "from sklearn.linear_model import LogisticRegression\n",
        "from sklearn.metrics import precision_score, recall_score, f1_score\n",
        "good_feedback = [\n",
        "    \"Great product!\", \"Excellent quality\", \"Very satisfied\", \"Highly recommend\", \"Amazing value\"\n",
        "] * 10\n",
        "\n",
        "bad_feedback = [\n",
        "    \"Terrible experience\", \"Poor quality\", \"Not satisfied\", \"Would not recommend\", \"Waste of money\"\n",
        "] * 10\n",
        "\n",
        "texts = good_feedback + bad_feedback\n",
        "labels = ['good'] * 50 + ['bad'] * 50\n",
        "\n",
        "df = pd.DataFrame({'Text': texts, 'Label': labels})\n",
        "\n",
        "\n",
        "vectorizer = TfidfVectorizer(max_features=300, stop_words='english', lowercase=True)\n",
        "X = vectorizer.fit_transform(df['Text'])\n",
        "y = df['Label']\n",
        "\n",
        "X_train, X_test, y_train, y_test = train_test_split(X, y, test_size=0.25, random_state=42)\n",
        "model = LogisticRegression()\n",
        "model.fit(X_train, y_train)\n",
        "\n",
        "y_pred = model.predict(X_test)\n",
        "\n",
        "precision = precision_score(y_test, y_pred, pos_label='good')\n",
        "recall = recall_score(y_test, y_pred, pos_label='good')\n",
        "f1 = f1_score(y_test, y_pred, pos_label='good')\n",
        "\n",
        "print(\"Precision:\", precision)\n",
        "print(\"Recall:\", recall)\n",
        "print(\"F1 Score:\", f1)\n",
        "\n",
        "\n",
        "def text_preprocess_vectorize(texts, vectorizer):\n",
        "    \"\"\"\n",
        "    Takes a list of text samples and a fitted TfidfVectorizer,\n",
        "    returns the TF-IDF feature matrix.\n",
        "    \"\"\"\n",
        "    return vectorizer.transform(texts)\n",
        "\n",
        "# Example usage\n",
        "new_texts = [\"Fantastic purchase\", \"Really bad product\"]\n",
        "X_new = text_preprocess_vectorize(new_texts, vectorizer)\n",
        "predictions = model.predict(X_new)\n",
        "print(\"Predicted labels:\", predictions)\n"
      ],
      "metadata": {
        "colab": {
          "base_uri": "https://localhost:8080/"
        },
        "id": "v6u8KWEpD9Y3",
        "outputId": "836f405c-66a0-4249-a0fc-e3de694c32c1"
      },
      "execution_count": 85,
      "outputs": [
        {
          "output_type": "stream",
          "name": "stdout",
          "text": [
            "Precision: 1.0\n",
            "Recall: 0.7857142857142857\n",
            "F1 Score: 0.88\n",
            "Predicted labels: ['bad' 'good']\n"
          ]
        }
      ]
    }
  ]
}